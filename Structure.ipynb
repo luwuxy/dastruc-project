{
 "cells": [
  {
   "cell_type": "markdown",
   "id": "5d777156",
   "metadata": {},
   "source": [
    "## Beneficiary Tracker\n",
    "### Beneficiary\n",
    "- Initialize beneficiary\n",
    "### Beneficiary Manager\n",
    "- Add beneficiary\n",
    "- Remove beneficiary\n",
    "- Update beneficiary\n",
    "- Get beneficiary\n",
    "- Compare food to beneficiary"
   ]
  }
 ],
 "metadata": {
  "language_info": {
   "name": "python"
  }
 },
 "nbformat": 4,
 "nbformat_minor": 5
}
