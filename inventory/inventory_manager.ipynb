{
 "cells": [
  {
   "cell_type": "markdown",
   "id": "60d0e282",
   "metadata": {},
   "source": [
    "STILL LACKING: \n",
    "1. PRIORITY QUEUE IS NOT YET IMPLEMENTED.. as i haven't studied it yet. but ill add it as soon as possible\n",
    "2. Advanced search and sort functions \n",
    "3. Clean output format for returning a searched item\n",
    "4. Menu page is not yet complete nor properly organized\n",
    "5. uhh i havent tested the efficiency of any of these algorithms yet. i think i can still change them along the way (eugh)\n",
    "6. GUI .. (should be a shared effort and will only be done if there's still extra time. and if ever we push through it, we go for PySimpleGui or wxPython..since its appearently simple as conpared to tkinter (according to reddit))\n",
    "\n",
    "tl;dr i'm still far from done. ;_; shit i wanna shift\n",
    "-ash"
   ]
  },
  {
   "cell_type": "code",
   "execution_count": 53,
   "id": "48cf5469",
   "metadata": {},
   "outputs": [],
   "source": [
    "from datetime import datetime\n",
    "from tabulate import tabulate ##this is to display inventory in table format (this is tentative, and will be removed \n",
    "# if we decided to incorporate a GUI)"
   ]
  },
  {
   "cell_type": "code",
   "execution_count": 54,
   "id": "7e6a2371",
   "metadata": {},
   "outputs": [],
   "source": [
    "#class for each inidivual food item\n",
    "class FoodItem:\n",
    "    def __init__(self, name, expiry, nutrients, quantity): \n",
    "        self.name = name \n",
    "        self.expiry =  datetime.strptime(expiry, \"%Y-%m-%d\")\n",
    "        self.nutrients = nutrients\n",
    "        self.quantity = quantity\n",
    "    \n",
    "    def setID(self, id): \n",
    "        self._id = id\n",
    "\n",
    "    def getID(self): \n",
    "        return self._id\n",
    "    \n",
    "    def __str__(self):\n",
    "        return (f\"ID: {self.getID()} \\n\"\n",
    "            f\"Name: {self.name} \\n\"\n",
    "            f\"Expiry: {self.expiry.date()} \\n\"\n",
    "            f\"Quantity: {self.quantity} \\n\"\n",
    "            f\"Nutrients: {self.nutrients}\")\n",
    "    \n",
    "    ##may add more nutritions like fats, carbohydrates etc. or a \"category\" variable for easier sort"
   ]
  },
  {
   "cell_type": "code",
   "execution_count": 55,
   "id": "6ceab8f3",
   "metadata": {},
   "outputs": [],
   "source": [
    "#Inventory manager class\n",
    "class Inventory:\n",
    "    def __init__(self): #constructor\n",
    "        self.items = {} #dictionary that stores all the food items (the actual inventory, in short)\n",
    "\n",
    "    #function for adding item to inventory\n",
    "    def add_item(self, id, name, expiry, nutrients, quantity): \n",
    "        newItem = FoodItem(name, expiry, nutrients, quantity)\n",
    "        newItem.setID(id)\n",
    "        self.items[newItem.getID()] = newItem #the food item created gets added to the inventory dictionary with the ITEM ID as\n",
    "        # its key and the specified infos as its values \n",
    "        return f\"{newItem.getID()}({name} added successfully!)\"\n",
    "\n",
    "    #function for searching item in the inventory\n",
    "    def search_item_by_id(self, targetItem):\n",
    "        targetItem = targetItem.upper()\n",
    "        if self.items != None:\n",
    "            for indiv_item in self.items.keys():\n",
    "                if indiv_item.upper() == targetItem: \n",
    "                    return self.items[targetItem]\n",
    "            return f\"Food item with ID : ({targetItem}) is not found.\"\n",
    "        else:\n",
    "            return \"Inventory is empty 📦\"\n",
    "        \n",
    "    def sort(): \n",
    "        pass\n",
    "\n",
    "    def search_item_by_category():\n",
    "        pass\n",
    "    def search_item_by_nutrients():\n",
    "        pass\n",
    "\n",
    "    \n",
    "    #function for displaying the inventory            \n",
    "    def display_inventory(self):\n",
    "        \"\"\"if self.items == None: \n",
    "            print(\"Inventory is empty.\")\n",
    "        else: \n",
    "            for item_id, item_details in self.items.items():\n",
    "                print(f\"{item_id} : {item_details}\")\"\"\"\n",
    "        \n",
    "        if not self.items:\n",
    "            print(\"Inventory is empty.📦\")\n",
    "            return\n",
    "\n",
    "        table_data = []\n",
    "        for item_id, item in self.items.items():\n",
    "            vits = \", \".join(item.nutrients[\"vits\"])\n",
    "            table_data.append([\n",
    "                item_id,\n",
    "                item.name,\n",
    "                item.expiry.date(),\n",
    "                item.quantity,\n",
    "                item.nutrients[\"calories\"],\n",
    "                item.nutrients[\"protein\"],\n",
    "                vits\n",
    "            ])\n",
    "        \n",
    "        headers = [\"ID\", \"Name\", \"Expiry\", \"Quantity\", \"Calories\", \"Protein\", \"Vitamins\"]\n",
    "        print(tabulate(table_data, headers=headers, tablefmt=\"grid\"))        \n",
    "\n",
    "    #function for prompting food item details from user           \n",
    "    def get_details(self):\n",
    "        name =  input(\"Enter the name of the food item:\")\n",
    "        quantity = int(input(\"Enter quantity:\"))\n",
    "        expiry = input(\"Enter expiry date (YYYY-MM-DD): \")\n",
    "        print(\"Enter nutritional info:\")\n",
    "        calories = int(input(\"  Calories: \"))\n",
    "        protein = int(input(\"  Protein (grams): \")) \n",
    "        vitamins = input(\"Vitamins it is rich in(seperate it with comma)\")\n",
    "        vitamins_list = [v.strip().upper() for v in vitamins.split(\",\") if v.strip()] \n",
    "        nutrients = {\"calories\": calories, \"protein\": protein, \"vits\" : vitamins_list}\n",
    "        id =  input(\"Enter the food item ID to complete: \")\n",
    "        return id, name, expiry, nutrients, quantity\n",
    "    \n",
    "        "
   ]
  },
  {
   "cell_type": "code",
   "execution_count": 56,
   "id": "ca266df3",
   "metadata": {},
   "outputs": [
    {
     "name": "stdout",
     "output_type": "stream",
     "text": [
      "+-----------+--------------+------------+------------+------------+-----------+------------+\n",
      "| ID        | Name         | Expiry     |   Quantity |   Calories |   Protein | Vitamins   |\n",
      "+===========+==============+============+============+============+===========+============+\n",
      "| VEG25001  | Brocolli     | 2028-05-10 |         50 |        100 |       300 | A, B12, D  |\n",
      "+-----------+--------------+------------+------------+------------+-----------+------------+\n",
      "| CARB25001 | Pasta        | 2028-06-09 |         60 |        100 |       300 | A, B12, D  |\n",
      "+-----------+--------------+------------+------------+------------+-----------+------------+\n",
      "| VEG25002  | Tomato       | 2025-06-09 |        100 |        100 |       300 | A, B12, D  |\n",
      "+-----------+--------------+------------+------------+------------+-----------+------------+\n",
      "| LENT25001 | Baguio beans | 2025-02-18 |         90 |        100 |       300 | A, B12, D  |\n",
      "+-----------+--------------+------------+------------+------------+-----------+------------+\n",
      "Food item with ID : (ITM202501) is not found.\n",
      "ID: LENT25001 \n",
      "Name: Baguio beans \n",
      "Expiry: 2025-02-18 \n",
      "Quantity: 90 \n",
      "Nutrients: {'calories': 100, 'protein': 300, 'vits': ['A', 'B12', 'D']}\n"
     ]
    }
   ],
   "source": [
    "#adding a food item, displaying the inventory, searching through the inventory using ITEMID. hard coded (no input from user)\n",
    "#for testing purposes only! \n",
    "inventory = Inventory()\n",
    "vitamins = ['A', 'B12', 'D']\n",
    "nutrients = {\"calories\" : 100, \"protein\": 300, \"vits\": vitamins}\n",
    "inventory.add_item(\"VEG25001\", \"Brocolli\", \"2028-05-10\", nutrients, 50)\n",
    "inventory.add_item(\"CARB25001\", \"Pasta\", \"2028-06-09\", nutrients, 60)\n",
    "inventory.add_item(\"VEG25002\", \"Tomato\", \"2025-06-09\", nutrients, 100)\n",
    "inventory.add_item(\"LENT25001\", \"Baguio beans\", \"2025-02-18\", nutrients, 90)\n",
    "inventory.display_inventory()\n",
    "print(inventory.search_item_by_id(\"ITM202501\"))\n",
    "print(inventory.search_item_by_id(\"LENT25001\"))\n",
    "\n"
   ]
  },
  {
   "cell_type": "code",
   "execution_count": 57,
   "id": "756c78cf",
   "metadata": {},
   "outputs": [
    {
     "name": "stdout",
     "output_type": "stream",
     "text": [
      "Choose an action:\n"
     ]
    },
    {
     "ename": "ValueError",
     "evalue": "invalid literal for int() with base 10: ''",
     "output_type": "error",
     "traceback": [
      "\u001b[31m---------------------------------------------------------------------------\u001b[39m",
      "\u001b[31mValueError\u001b[39m                                Traceback (most recent call last)",
      "\u001b[36mCell\u001b[39m\u001b[36m \u001b[39m\u001b[32mIn[57]\u001b[39m\u001b[32m, line 6\u001b[39m\n\u001b[32m      4\u001b[39m \u001b[38;5;28;01mwhile\u001b[39;00m \u001b[38;5;28;01mTrue\u001b[39;00m:\n\u001b[32m      5\u001b[39m     \u001b[38;5;28mprint\u001b[39m(\u001b[33m\"\u001b[39m\u001b[33mChoose an action:\u001b[39m\u001b[33m\"\u001b[39m)\n\u001b[32m----> \u001b[39m\u001b[32m6\u001b[39m     inp = \u001b[38;5;28;43mint\u001b[39;49m\u001b[43m(\u001b[49m\u001b[38;5;28;43minput\u001b[39;49m\u001b[43m(\u001b[49m\u001b[33;43m\"\u001b[39;49m\u001b[33;43m1. Add an item \u001b[39;49m\u001b[38;5;130;43;01m\\n\u001b[39;49;00m\u001b[33;43m 2.Search an item \u001b[39;49m\u001b[38;5;130;43;01m\\n\u001b[39;49;00m\u001b[33;43m 3.Modify an item \u001b[39;49m\u001b[38;5;130;43;01m\\n\u001b[39;49;00m\u001b[33;43m 4.View inventory \u001b[39;49m\u001b[38;5;130;43;01m\\n\u001b[39;49;00m\u001b[33;43m 5. Exit\u001b[39;49m\u001b[33;43m\"\u001b[39;49m\u001b[43m)\u001b[49m\u001b[43m)\u001b[49m\n\u001b[32m      7\u001b[39m     \u001b[38;5;28;01mif\u001b[39;00m inp == \u001b[32m1\u001b[39m:\n\u001b[32m      8\u001b[39m         \u001b[38;5;28mid\u001b[39m, name, expiry, nutrients, quantity = inventory.get_details()\n",
      "\u001b[31mValueError\u001b[39m: invalid literal for int() with base 10: ''"
     ]
    }
   ],
   "source": [
    "##adding to and displaying inventory (With user input)\n",
    "\n",
    "inventory = Inventory()\n",
    "while True:\n",
    "    print(\"Choose an action:\")\n",
    "    inp = int(input(\"1. Add an item \\n 2.Search an item \\n 3.Modify an item \\n 4.View inventory \\n 5. Exit\"))\n",
    "    if inp == 1:\n",
    "        id, name, expiry, nutrients, quantity = inventory.get_details()\n",
    "        inventory.add_item(id, name, expiry, nutrients, quantity)\n",
    "        continue\n",
    "    elif inp == 2:\n",
    "        # would u like to search by 1. item ID 2.category 3. specific vitamin..?? not sure w this yet\n",
    "        pass\n",
    "    elif inp == 3: \n",
    "        ## need to create a function for updating an item's quantity to reflect current stocks\n",
    "        pass\n",
    "    elif inp == 4: \n",
    "        inventory.display_inventory\n",
    "    elif inp == 5: \n",
    "        break\n",
    "inventory.display_inventory() \n",
    "\n",
    "\n",
    "##not done."
   ]
  }
 ],
 "metadata": {
  "kernelspec": {
   "display_name": "Python 3",
   "language": "python",
   "name": "python3"
  },
  "language_info": {
   "codemirror_mode": {
    "name": "ipython",
    "version": 3
   },
   "file_extension": ".py",
   "mimetype": "text/x-python",
   "name": "python",
   "nbconvert_exporter": "python",
   "pygments_lexer": "ipython3",
   "version": "3.11.9"
  }
 },
 "nbformat": 4,
 "nbformat_minor": 5
}
