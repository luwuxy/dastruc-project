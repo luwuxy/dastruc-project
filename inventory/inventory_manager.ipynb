{
 "cells": [
  {
   "cell_type": "code",
   "execution_count": 28,
   "id": "5a87e151",
   "metadata": {},
   "outputs": [],
   "source": [
    "from datetime import datetime\n",
    "import heapq"
   ]
  },
  {
   "cell_type": "code",
   "execution_count": 29,
   "id": "7e6a2371",
   "metadata": {},
   "outputs": [],
   "source": [
    "class FoodItem:\n",
    "    def __init__(self, name, expiry, nutrients, quantity): \n",
    "        self.name = name \n",
    "        self.expiry = expiry\n",
    "        self.nutrients = nutrients\n",
    "        self.quantity = quantity\n",
    "\n",
    "    def setID(self, id): \n",
    "        self.itemID = id\n",
    "\n"
   ]
  },
  {
   "cell_type": "code",
   "execution_count": 30,
   "id": "6ceab8f3",
   "metadata": {},
   "outputs": [],
   "source": [
    "class Inventory:\n",
    "    def __init__(self): \n",
    "        self.items = {}\n",
    "    def add_item(name, id, expiry, nutrients, quantity):\n",
    "        expiry = datetime.strptime(expiry, \"%Y-%m-%d\")\n",
    "        newItem = FoodItem(name, id, expiry, nutrients, quantity)\n",
    "    def search_item(self, name):\n",
    "        name = name.upper()\n",
    "        if self.items != None:\n",
    "            for indiv_item in self.items.keys():\n",
    "                if indiv_item.upper() == name: \n",
    "                    return self.items[name]\n",
    "\n",
    "\n"
   ]
  },
  {
   "cell_type": "code",
   "execution_count": 31,
   "id": "904b65ff",
   "metadata": {},
   "outputs": [
    {
     "name": "stdout",
     "output_type": "stream",
     "text": [
      "Choose an action:\n",
      "---------------------\n",
      "Enter nutritional info:\n"
     ]
    },
    {
     "ename": "ValueError",
     "evalue": "time data '10, 11, 05' does not match format '%Y-%m-%d'",
     "output_type": "error",
     "traceback": [
      "\u001b[31m---------------------------------------------------------------------------\u001b[39m",
      "\u001b[31mValueError\u001b[39m                                Traceback (most recent call last)",
      "\u001b[36mCell\u001b[39m\u001b[36m \u001b[39m\u001b[32mIn[31]\u001b[39m\u001b[32m, line 14\u001b[39m\n\u001b[32m     12\u001b[39m protein = \u001b[38;5;28mint\u001b[39m(\u001b[38;5;28minput\u001b[39m(\u001b[33m\"\u001b[39m\u001b[33m  Protein (grams): \u001b[39m\u001b[33m\"\u001b[39m)) \n\u001b[32m     13\u001b[39m nutrients = {\u001b[33m\"\u001b[39m\u001b[33mcalories\u001b[39m\u001b[33m\"\u001b[39m: calories, \u001b[33m\"\u001b[39m\u001b[33mprotein\u001b[39m\u001b[33m\"\u001b[39m: protein}\n\u001b[32m---> \u001b[39m\u001b[32m14\u001b[39m \u001b[43minventory\u001b[49m\u001b[43m.\u001b[49m\u001b[43madd_item\u001b[49m\u001b[43m(\u001b[49m\u001b[43mname\u001b[49m\u001b[43m,\u001b[49m\u001b[43m \u001b[49m\u001b[43mexpiry\u001b[49m\u001b[43m,\u001b[49m\u001b[43m \u001b[49m\u001b[43mnutrients\u001b[49m\u001b[43m,\u001b[49m\u001b[43m \u001b[49m\u001b[43mquantity\u001b[49m\u001b[43m)\u001b[49m\n\u001b[32m     15\u001b[39m \u001b[38;5;28mprint\u001b[39m(\u001b[33mf\u001b[39m\u001b[33m\"\u001b[39m\u001b[33m✅ Added \u001b[39m\u001b[38;5;132;01m{\u001b[39;00mname\u001b[38;5;132;01m}\u001b[39;00m\u001b[33m!\u001b[39m\u001b[38;5;130;01m\\n\u001b[39;00m\u001b[33m\"\u001b[39m)\n\u001b[32m     16\u001b[39m \u001b[38;5;28;01mbreak\u001b[39;00m\n",
      "\u001b[36mCell\u001b[39m\u001b[36m \u001b[39m\u001b[32mIn[30]\u001b[39m\u001b[32m, line 5\u001b[39m, in \u001b[36mInventory.add_item\u001b[39m\u001b[34m(name, id, expiry, nutrients, quantity)\u001b[39m\n\u001b[32m      4\u001b[39m \u001b[38;5;28;01mdef\u001b[39;00m\u001b[38;5;250m \u001b[39m\u001b[34madd_item\u001b[39m(name, \u001b[38;5;28mid\u001b[39m, expiry, nutrients, quantity):\n\u001b[32m----> \u001b[39m\u001b[32m5\u001b[39m     expiry = \u001b[43mdatetime\u001b[49m\u001b[43m.\u001b[49m\u001b[43mstrptime\u001b[49m\u001b[43m(\u001b[49m\u001b[43mexpiry\u001b[49m\u001b[43m,\u001b[49m\u001b[43m \u001b[49m\u001b[33;43m\"\u001b[39;49m\u001b[33;43m%\u001b[39;49m\u001b[33;43mY-\u001b[39;49m\u001b[33;43m%\u001b[39;49m\u001b[33;43mm-\u001b[39;49m\u001b[38;5;132;43;01m%d\u001b[39;49;00m\u001b[33;43m\"\u001b[39;49m\u001b[43m)\u001b[49m\n\u001b[32m      6\u001b[39m     newItem = FoodItem(name, \u001b[38;5;28mid\u001b[39m, expiry, nutrients, quantity)\n",
      "\u001b[36mFile \u001b[39m\u001b[32mC:\\Program Files\\WindowsApps\\PythonSoftwareFoundation.Python.3.11_3.11.2544.0_x64__qbz5n2kfra8p0\\Lib\\_strptime.py:567\u001b[39m, in \u001b[36m_strptime_datetime\u001b[39m\u001b[34m(cls, data_string, format)\u001b[39m\n\u001b[32m    564\u001b[39m \u001b[38;5;28;01mdef\u001b[39;00m\u001b[38;5;250m \u001b[39m\u001b[34m_strptime_datetime\u001b[39m(\u001b[38;5;28mcls\u001b[39m, data_string, \u001b[38;5;28mformat\u001b[39m=\u001b[33m\"\u001b[39m\u001b[38;5;132;01m%a\u001b[39;00m\u001b[33m \u001b[39m\u001b[33m%\u001b[39m\u001b[33mb \u001b[39m\u001b[38;5;132;01m%d\u001b[39;00m\u001b[33m \u001b[39m\u001b[33m%\u001b[39m\u001b[33mH:\u001b[39m\u001b[33m%\u001b[39m\u001b[33mM:\u001b[39m\u001b[33m%\u001b[39m\u001b[33mS \u001b[39m\u001b[33m%\u001b[39m\u001b[33mY\u001b[39m\u001b[33m\"\u001b[39m):\n\u001b[32m    565\u001b[39m \u001b[38;5;250m    \u001b[39m\u001b[33;03m\"\"\"Return a class cls instance based on the input string and the\u001b[39;00m\n\u001b[32m    566\u001b[39m \u001b[33;03m    format string.\"\"\"\u001b[39;00m\n\u001b[32m--> \u001b[39m\u001b[32m567\u001b[39m     tt, fraction, gmtoff_fraction = \u001b[43m_strptime\u001b[49m\u001b[43m(\u001b[49m\u001b[43mdata_string\u001b[49m\u001b[43m,\u001b[49m\u001b[43m \u001b[49m\u001b[38;5;28;43mformat\u001b[39;49m\u001b[43m)\u001b[49m\n\u001b[32m    568\u001b[39m     tzname, gmtoff = tt[-\u001b[32m2\u001b[39m:]\n\u001b[32m    569\u001b[39m     args = tt[:\u001b[32m6\u001b[39m] + (fraction,)\n",
      "\u001b[36mFile \u001b[39m\u001b[32mC:\\Program Files\\WindowsApps\\PythonSoftwareFoundation.Python.3.11_3.11.2544.0_x64__qbz5n2kfra8p0\\Lib\\_strptime.py:349\u001b[39m, in \u001b[36m_strptime\u001b[39m\u001b[34m(data_string, format)\u001b[39m\n\u001b[32m    347\u001b[39m found = format_regex.match(data_string)\n\u001b[32m    348\u001b[39m \u001b[38;5;28;01mif\u001b[39;00m \u001b[38;5;129;01mnot\u001b[39;00m found:\n\u001b[32m--> \u001b[39m\u001b[32m349\u001b[39m     \u001b[38;5;28;01mraise\u001b[39;00m \u001b[38;5;167;01mValueError\u001b[39;00m(\u001b[33m\"\u001b[39m\u001b[33mtime data \u001b[39m\u001b[38;5;132;01m%r\u001b[39;00m\u001b[33m does not match format \u001b[39m\u001b[38;5;132;01m%r\u001b[39;00m\u001b[33m\"\u001b[39m %\n\u001b[32m    350\u001b[39m                      (data_string, \u001b[38;5;28mformat\u001b[39m))\n\u001b[32m    351\u001b[39m \u001b[38;5;28;01mif\u001b[39;00m \u001b[38;5;28mlen\u001b[39m(data_string) != found.end():\n\u001b[32m    352\u001b[39m     \u001b[38;5;28;01mraise\u001b[39;00m \u001b[38;5;167;01mValueError\u001b[39;00m(\u001b[33m\"\u001b[39m\u001b[33munconverted data remains: \u001b[39m\u001b[38;5;132;01m%s\u001b[39;00m\u001b[33m\"\u001b[39m %\n\u001b[32m    353\u001b[39m                       data_string[found.end():])\n",
      "\u001b[31mValueError\u001b[39m: time data '10, 11, 05' does not match format '%Y-%m-%d'"
     ]
    }
   ],
   "source": [
    "\n",
    "print(\"Choose an action:\")\n",
    "print(\"---------------------\")\n",
    "inventory = Inventory()\n",
    "while True: \n",
    "    inp = int(input(\"1. Add an item \\n 2.Search an item \\n 3.Delete an item\"))\n",
    "    if inp == 1:\n",
    "        name =  input(\"Enter the name of the food item:\")\n",
    "        expiry = input(\"Enter expiry date (YYYY-MM-DD): \")\n",
    "        quantity = int(input(\"Enter quantity:\"))\n",
    "        print(\"Enter nutritional info:\")\n",
    "        calories = int(input(\"  Calories: \"))\n",
    "        protein = int(input(\"  Protein (grams): \")) \n",
    "        nutrients = {\"calories\": calories, \"protein\": protein}\n",
    "        inventory.add_item(name, expiry, nutrients, quantity)\n",
    "        print(f\"✅ Added {name}!\\n\")\n",
    "        break\n",
    "        "
   ]
  }
 ],
 "metadata": {
  "kernelspec": {
   "display_name": "Python 3",
   "language": "python",
   "name": "python3"
  },
  "language_info": {
   "codemirror_mode": {
    "name": "ipython",
    "version": 3
   },
   "file_extension": ".py",
   "mimetype": "text/x-python",
   "name": "python",
   "nbconvert_exporter": "python",
   "pygments_lexer": "ipython3",
   "version": "3.11.9"
  }
 },
 "nbformat": 4,
 "nbformat_minor": 5
}
