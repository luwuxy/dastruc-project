{
 "cells": [
  {
   "cell_type": "code",
   "execution_count": 38,
   "id": "48cf5469",
   "metadata": {},
   "outputs": [],
   "source": [
    "from datetime import datetime\n",
    "from tabulate import tabulate"
   ]
  },
  {
   "cell_type": "code",
   "execution_count": 39,
   "id": "7e6a2371",
   "metadata": {},
   "outputs": [],
   "source": [
    "#class for each inidivual food item\n",
    "class FoodItem:\n",
    "    def __init__(self, name, expiry, nutrients, quantity): \n",
    "        self.name = name \n",
    "        self.expiry =  datetime.strptime(expiry, \"%Y-%m-%d\")\n",
    "        self.nutrients = nutrients\n",
    "        self.quantity = quantity\n",
    "    \n",
    "    def setID(self, id): \n",
    "        self.id = id\n",
    "\n",
    "    def getID(self): \n",
    "        return self.id\n",
    "    \n",
    "    def __str__(self):\n",
    "        return (f\"ID: {self.getID()} \\n\"\n",
    "            f\"Name: {self.name} \\n\"\n",
    "            f\"Expiry: {self.expiry.date()} \\n\"\n",
    "            f\"Quantity: {self.quantity} \\n\"\n",
    "            f\"Nutrients: {self.nutrients}\")\n",
    "\n"
   ]
  },
  {
   "cell_type": "code",
   "execution_count": 40,
   "id": "6ceab8f3",
   "metadata": {},
   "outputs": [],
   "source": [
    "#Inventory manager class\n",
    "class Inventory:\n",
    "    def __init__(self): \n",
    "        self.items = {} #dictionary that stores all the food items#\n",
    "\n",
    "    def add_item(self, id, name, expiry, nutrients, quantity):\n",
    "        newItem = FoodItem(name, expiry, nutrients, quantity)\n",
    "        newItem.setID(id)\n",
    "        self.items[newItem.getID()] = newItem #the food item created gets added to the inventory dictionary with the ITEM ID as\n",
    "        # its key and the specified infos as its values \n",
    "        \n",
    "    def search_item(self, targetItem):\n",
    "        ## not complete yet, i want to include an option for user to search not only by itemID, but the nutrients or name\n",
    "        targetItem = targetItem.upper()\n",
    "        if self.items != None:\n",
    "            for indiv_item in self.items.keys():\n",
    "                if indiv_item.upper() == targetItem: \n",
    "                    return self.items[targetItem]\n",
    "                \n",
    "    def display_inventory(self):\n",
    "\n",
    "\n",
    "        \"\"\"if self.items == None: \n",
    "            print(\"Inventory is empty.\")\n",
    "        else: \n",
    "            for item_id, item_details in self.items.items():\n",
    "                print(f\"{item_id} : {item_details}\")\"\"\"\n",
    "        if not self.items:\n",
    "            print(\"📦 Inventory is empty.\")\n",
    "            return\n",
    "\n",
    "        table_data = []\n",
    "        for item_id, item in self.items.items():\n",
    "            vits = \", \".join(item.nutrients[\"vits\"])\n",
    "            table_data.append([\n",
    "                item_id,\n",
    "                item.name,\n",
    "                item.expiry.date(),\n",
    "                item.quantity,\n",
    "                item.nutrients[\"calories\"],\n",
    "                item.nutrients[\"protein\"],\n",
    "                vits\n",
    "            ])\n",
    "\n",
    "        headers = [\"ID\", \"Name\", \"Expiry\", \"Quantity\", \"Calories\", \"Protein\", \"Vitamins\"]\n",
    "        print(tabulate(table_data, headers=headers, tablefmt=\"grid\"))        \n",
    "\n",
    "\n",
    "\n",
    "\n",
    "                \n",
    "    def get_details(self):\n",
    "        name =  input(\"Enter the name of the food item:\")\n",
    "        quantity = int(input(\"Enter quantity:\"))\n",
    "        expiry = input(\"Enter expiry date (YYYY-MM-DD): \")\n",
    "        print(\"Enter nutritional info:\")\n",
    "        calories = int(input(\"  Calories: \"))\n",
    "        protein = int(input(\"  Protein (grams): \")) \n",
    "        vitamins = input(\"Vitamins it is rich in(seperate it with comma)\")\n",
    "        vitamins_list = [v.strip().upper() for v in vitamins.split(\",\") if v.strip()] \n",
    "        nutrients = {\"calories\": calories, \"protein\": protein, \"vits\" : vitamins_list}\n",
    "        id =  input(\"Enter the food item ID to complete: \")\n",
    "        return id, name, expiry, nutrients, quantity\n",
    "        "
   ]
  },
  {
   "cell_type": "code",
   "execution_count": 41,
   "id": "904b65ff",
   "metadata": {},
   "outputs": [
    {
     "name": "stdout",
     "output_type": "stream",
     "text": [
      "ID: ITM202501 \n",
      "Name: Chicken \n",
      "Expiry: 2005-06-06 \n",
      "Quantity: 100 \n",
      "Nutrients: {'calories': 100, 'protein': 300, 'vits': ['A', 'B12', 'D']}\n"
     ]
    }
   ],
   "source": [
    "\n",
    "#displaying each indiv item. hard coded (no input from user)\n",
    "inventory = Inventory()\n",
    "vitamins = ['A', 'B12', 'D']\n",
    "nutrients = {\"calories\" : 100, \"protein\": 300, \"vits\": vitamins}\n",
    "foodItem1 = FoodItem( \"Chicken\",\"2005-06-06\",nutrients, 100)\n",
    "foodItem1.setID(\"ITM202501\")\n",
    "print(foodItem1.__str__())"
   ]
  },
  {
   "cell_type": "code",
   "execution_count": 43,
   "id": "756c78cf",
   "metadata": {},
   "outputs": [
    {
     "name": "stdout",
     "output_type": "stream",
     "text": [
      "📦 Inventory is empty.\n"
     ]
    }
   ],
   "source": [
    "inventory = Inventory()\n",
    "while inp != 5:\n",
    "    print(\"Choose an action:\")\n",
    "    inp = int(input(\"1. Add an item \\n 2.Search an item \\n 3.Delete an item \\n 4.View inventory \\n 5. Exit\"))\n",
    "    if inp == 1:\n",
    "        id, name, expiry, nutrients, quantity = inventory.get_details()\n",
    "        inventory.add_item(id, name, expiry, nutrients, quantity)\n",
    "inventory.display_inventory()"
   ]
  }
 ],
 "metadata": {
  "kernelspec": {
   "display_name": "Python 3",
   "language": "python",
   "name": "python3"
  },
  "language_info": {
   "codemirror_mode": {
    "name": "ipython",
    "version": 3
   },
   "file_extension": ".py",
   "mimetype": "text/x-python",
   "name": "python",
   "nbconvert_exporter": "python",
   "pygments_lexer": "ipython3",
   "version": "3.11.9"
  }
 },
 "nbformat": 4,
 "nbformat_minor": 5
}
