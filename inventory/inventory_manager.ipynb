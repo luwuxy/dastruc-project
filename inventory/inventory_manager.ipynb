{
 "cells": [
  {
   "cell_type": "code",
   "execution_count": 53,
   "id": "48cf5469",
   "metadata": {},
   "outputs": [],
   "source": [
    "from datetime import datetime"
   ]
  },
  {
   "cell_type": "code",
   "execution_count": null,
   "id": "7e6a2371",
   "metadata": {},
   "outputs": [],
   "source": [
    "class FoodItem:\n",
    "    def __init__(self, name, id, expiry, nutrients, quantity): \n",
    "        self.name = name \n",
    "        self.expiry = expiry\n",
    "        self.nutrients = nutrients\n",
    "        self.quantity = quantity\n",
    "        self.id = id\n",
    "    \n",
    "    def __str__(self):\n",
    "        return (f\"ID: {self.id}\\n\"\n",
    "            f\"Name: {self.name}\\n\"\n",
    "            f\"Expiry: {self.expiry.date()}\\n\"\n",
    "            f\"Quantity: {self.quantity}\\n\"\n",
    "            f\"Nutrients: {self.nutrients}\")\n",
    "\n"
   ]
  },
  {
   "cell_type": "code",
   "execution_count": 55,
   "id": "6ceab8f3",
   "metadata": {},
   "outputs": [],
   "source": [
    "class Inventory:\n",
    "    def __init__(self): \n",
    "        self.items = {}\n",
    "    def add_item(self, id, name, expiry, nutrients, quantity):\n",
    "        expiry = datetime.strptime(expiry, \"%Y-%m-%d\")\n",
    "        newItem = FoodItem(name, id, expiry, nutrients, quantity)\n",
    "        self.items[id] = newItem\n",
    "        \n",
    "    def search_item(self, name):\n",
    "        name = name.upper()\n",
    "        if self.items != None:\n",
    "            for indiv_item in self.items.keys():\n",
    "                if indiv_item.upper() == name: \n",
    "                    return self.items[name]\n",
    "    def display_inventory(self):\n",
    "        if self.items == None: \n",
    "            print(\"Inventory is empty.\")\n",
    "        else: \n",
    "            for item_id, food_item in self.items.items():\n",
    "                print(f\"{item_id} : {food_item}\")\n",
    "\n",
    "                \n",
    "    def get_details(self):\n",
    "        name =  input(\"Enter the name of the food item:\")\n",
    "        id = input(\"Enter ID\")\n",
    "        quantity = int(input(\"Enter quantity:\"))\n",
    "        expiry = input(\"Enter expiry date (YYYY-MM-DD): \")\n",
    "        print(\"Enter nutritional info:\")\n",
    "        calories = int(input(\"  Calories: \"))\n",
    "        protein = int(input(\"  Protein (grams): \")) \n",
    "        vitamins = input(\"Vitamins it is rich in(seperate it with comma)\")\n",
    "        vitamins_list = [v.strip().upper() for v in vitamins.split(\",\") if v.strip()] \n",
    "        nutrients = {\"calories\": calories, \"protein\": protein, \"vits\" : vitamins_list}\n",
    "        return id, name, expiry, nutrients, quantity\n",
    "        "
   ]
  },
  {
   "cell_type": "code",
   "execution_count": 56,
   "id": "904b65ff",
   "metadata": {},
   "outputs": [
    {
     "name": "stdout",
     "output_type": "stream",
     "text": [
      "Choose an action:\n",
      "Enter nutritional info:\n"
     ]
    },
    {
     "ename": "AttributeError",
     "evalue": "'FoodItem' object has no attribute 'item_id'",
     "output_type": "error",
     "traceback": [
      "\u001b[31m---------------------------------------------------------------------------\u001b[39m",
      "\u001b[31mAttributeError\u001b[39m                            Traceback (most recent call last)",
      "\u001b[36mCell\u001b[39m\u001b[36m \u001b[39m\u001b[32mIn[56]\u001b[39m\u001b[32m, line 9\u001b[39m\n\u001b[32m      7\u001b[39m         inventory.add_item(\u001b[38;5;28mid\u001b[39m, name, expiry, nutrients, quantity)\n\u001b[32m      8\u001b[39m         \u001b[38;5;28;01mbreak\u001b[39;00m\n\u001b[32m----> \u001b[39m\u001b[32m9\u001b[39m \u001b[43minventory\u001b[49m\u001b[43m.\u001b[49m\u001b[43mdisplay_inventory\u001b[49m\u001b[43m(\u001b[49m\u001b[43m)\u001b[49m\n",
      "\u001b[36mCell\u001b[39m\u001b[36m \u001b[39m\u001b[32mIn[55]\u001b[39m\u001b[32m, line 20\u001b[39m, in \u001b[36mInventory.display_inventory\u001b[39m\u001b[34m(self)\u001b[39m\n\u001b[32m     18\u001b[39m \u001b[38;5;28;01melse\u001b[39;00m: \n\u001b[32m     19\u001b[39m     \u001b[38;5;28;01mfor\u001b[39;00m item_id, food_item \u001b[38;5;129;01min\u001b[39;00m \u001b[38;5;28mself\u001b[39m.items.items():\n\u001b[32m---> \u001b[39m\u001b[32m20\u001b[39m         \u001b[38;5;28mprint\u001b[39m(\u001b[33mf\u001b[39m\u001b[33m\"\u001b[39m\u001b[38;5;132;01m{\u001b[39;00mitem_id\u001b[38;5;132;01m}\u001b[39;00m\u001b[33m : \u001b[39m\u001b[38;5;132;01m{\u001b[39;00mfood_item\u001b[38;5;132;01m}\u001b[39;00m\u001b[33m\"\u001b[39m)\n",
      "\u001b[36mCell\u001b[39m\u001b[36m \u001b[39m\u001b[32mIn[54]\u001b[39m\u001b[32m, line 10\u001b[39m, in \u001b[36mFoodItem.__str__\u001b[39m\u001b[34m(self)\u001b[39m\n\u001b[32m      9\u001b[39m \u001b[38;5;28;01mdef\u001b[39;00m\u001b[38;5;250m \u001b[39m\u001b[34m__str__\u001b[39m(\u001b[38;5;28mself\u001b[39m):\n\u001b[32m---> \u001b[39m\u001b[32m10\u001b[39m     \u001b[38;5;28;01mreturn\u001b[39;00m (\u001b[33mf\u001b[39m\u001b[33m\"\u001b[39m\u001b[33mID: \u001b[39m\u001b[38;5;132;01m{\u001b[39;00m\u001b[38;5;28;43mself\u001b[39;49m\u001b[43m.\u001b[49m\u001b[43mitem_id\u001b[49m\u001b[38;5;132;01m}\u001b[39;00m\u001b[38;5;130;01m\\n\u001b[39;00m\u001b[33m\"\u001b[39m\n\u001b[32m     11\u001b[39m         \u001b[33mf\u001b[39m\u001b[33m\"\u001b[39m\u001b[33mName: \u001b[39m\u001b[38;5;132;01m{\u001b[39;00m\u001b[38;5;28mself\u001b[39m.name\u001b[38;5;132;01m}\u001b[39;00m\u001b[38;5;130;01m\\n\u001b[39;00m\u001b[33m\"\u001b[39m\n\u001b[32m     12\u001b[39m         \u001b[33mf\u001b[39m\u001b[33m\"\u001b[39m\u001b[33mExpiry: \u001b[39m\u001b[38;5;132;01m{\u001b[39;00m\u001b[38;5;28mself\u001b[39m.expiry.date()\u001b[38;5;132;01m}\u001b[39;00m\u001b[38;5;130;01m\\n\u001b[39;00m\u001b[33m\"\u001b[39m\n\u001b[32m     13\u001b[39m         \u001b[33mf\u001b[39m\u001b[33m\"\u001b[39m\u001b[33mQuantity: \u001b[39m\u001b[38;5;132;01m{\u001b[39;00m\u001b[38;5;28mself\u001b[39m.quantity\u001b[38;5;132;01m}\u001b[39;00m\u001b[38;5;130;01m\\n\u001b[39;00m\u001b[33m\"\u001b[39m\n\u001b[32m     14\u001b[39m         \u001b[33mf\u001b[39m\u001b[33m\"\u001b[39m\u001b[33mNutrients: \u001b[39m\u001b[38;5;132;01m{\u001b[39;00m\u001b[38;5;28mself\u001b[39m.nutrients\u001b[38;5;132;01m}\u001b[39;00m\u001b[33m\"\u001b[39m)\n",
      "\u001b[31mAttributeError\u001b[39m: 'FoodItem' object has no attribute 'item_id'"
     ]
    }
   ],
   "source": [
    "\n",
    "inventory = Inventory()\n",
    "while True: \n",
    "    print(\"Choose an action:\")\n",
    "    inp = int(input(\"1. Add an item \\n 2.Search an item \\n 3.Delete an item \\n 4.View inventory \\n 5. Exit\"))\n",
    "    if inp == 1:\n",
    "        id, name, expiry, nutrients, quantity = inventory.get_details()\n",
    "        inventory.add_item(id, name, expiry, nutrients, quantity)\n",
    "        break\n",
    "inventory.display_inventory()\n",
    "\n",
    "        "
   ]
  },
  {
   "cell_type": "code",
   "execution_count": null,
   "id": "c4bbe7f9",
   "metadata": {},
   "outputs": [],
   "source": []
  }
 ],
 "metadata": {
  "kernelspec": {
   "display_name": "Python 3",
   "language": "python",
   "name": "python3"
  },
  "language_info": {
   "codemirror_mode": {
    "name": "ipython",
    "version": 3
   },
   "file_extension": ".py",
   "mimetype": "text/x-python",
   "name": "python",
   "nbconvert_exporter": "python",
   "pygments_lexer": "ipython3",
   "version": "3.11.9"
  }
 },
 "nbformat": 4,
 "nbformat_minor": 5
}
