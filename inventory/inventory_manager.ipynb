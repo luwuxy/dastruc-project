{
 "cells": [
  {
   "cell_type": "code",
   "execution_count": 33,
   "id": "48cf5469",
   "metadata": {},
   "outputs": [],
   "source": [
    "from datetime import datetime"
   ]
  },
  {
   "cell_type": "code",
   "execution_count": 46,
   "id": "7e6a2371",
   "metadata": {},
   "outputs": [],
   "source": [
    "#class for each inidivual food item\n",
    "class FoodItem:\n",
    "    def __init__(self, name, expiry, nutrients, quantity): \n",
    "        self.name = name \n",
    "        self.expiry =  datetime.strptime(expiry, \"%Y-%m-%d\")\n",
    "        self.nutrients = nutrients\n",
    "        self.quantity = quantity\n",
    "        \n",
    "    \n",
    "    def setID(self, id): \n",
    "        self.id = id\n",
    "\n",
    "    def getID(self): \n",
    "        return self.id\n",
    "    \n",
    "    def __str__(self):\n",
    "        return (f\"ID: {self.getID()} \\n\"\n",
    "            f\"Name: {self.name} \\n\"\n",
    "            f\"Expiry: {self.expiry.date()} \\n\"\n",
    "            f\"Quantity: {self.quantity} \\n\"\n",
    "            f\"Nutrients: {self.nutrients}\")\n",
    "\n"
   ]
  },
  {
   "cell_type": "code",
   "execution_count": 41,
   "id": "6ceab8f3",
   "metadata": {},
   "outputs": [],
   "source": [
    "#Inventory manager class\n",
    "class Inventory:\n",
    "    def __init__(self): \n",
    "        self.items = {} #dictionary that stores all the food items#\n",
    "\n",
    "    def add_item(self, id, name, expiry, nutrients, quantity):\n",
    "        expiry = datetime.strptime(expiry, \"%Y-%m-%d\")\n",
    "        newItem = FoodItem(name, expiry, nutrients, quantity)\n",
    "        newItem.setID(id)\n",
    "        self.items[newItem.getID] = newItem #the food item created gets added to the inventory dictionary with the ITEM ID as\n",
    "        # its key and the specified infos as its values \n",
    "        \n",
    "    def search_item(self, targetItem):\n",
    "        ## not complete yet, i want to include an option for user to search not only by itemID, but the nutrients or name\n",
    "        targetItem = targetItem.upper()\n",
    "        if self.items != None:\n",
    "            for indiv_item in self.items.keys():\n",
    "                if indiv_item.upper() == targetItem: \n",
    "                    return self.items[targetItem]\n",
    "                \n",
    "    def display_inventory(self):\n",
    "        if self.items == None: \n",
    "            print(\"Inventory is empty.\")\n",
    "        else: \n",
    "            for item_id, item_details in self.items.items():\n",
    "                print(f\"{item_id} : {item_details}\")\n",
    "                \n",
    "    def get_details(self):\n",
    "        name =  input(\"Enter the name of the food item:\")\n",
    "        quantity = int(input(\"Enter quantity:\"))\n",
    "        expiry = input(\"Enter expiry date (YYYY-MM-DD): \")\n",
    "        print(\"Enter nutritional info:\")\n",
    "        calories = int(input(\"  Calories: \"))\n",
    "        protein = int(input(\"  Protein (grams): \")) \n",
    "        vitamins = input(\"Vitamins it is rich in(seperate it with comma)\")\n",
    "        vitamins_list = [v.strip().upper() for v in vitamins.split(\",\") if v.strip()] \n",
    "        nutrients = {\"calories\": calories, \"protein\": protein, \"vits\" : vitamins_list}\n",
    "        id =  input(\"Enter the food item ID to complete: \")\n",
    "        return id, name, expiry, nutrients, quantity\n",
    "        "
   ]
  },
  {
   "cell_type": "code",
   "execution_count": 52,
   "id": "904b65ff",
   "metadata": {},
   "outputs": [
    {
     "name": "stdout",
     "output_type": "stream",
     "text": [
      "ID: ITM202501 \n",
      "Name: Chicken \n",
      "Expiry: 2005-06-06 \n",
      "Quantity: 100 \n",
      "Nutrients: {'calories': 100, 'protein': 300, 'vits': ['A', 'B', 'C', 'D']}\n"
     ]
    }
   ],
   "source": [
    "\n",
    "#displaying each indiv item. hard coded (no input from user)\n",
    "inventory = Inventory()\n",
    "nutrients = {\"calories\" : 100, \"protein\": 300, \"vits\": ['A','B','C','D']}\n",
    "foodItem1 = FoodItem( \"Chicken\",\"2005-06-06\",nutrients, 100)\n",
    "foodItem1.setID(\"ITM202501\")\n",
    "print(foodItem1.__str__())"
   ]
  },
  {
   "cell_type": "code",
   "execution_count": null,
   "id": "756c78cf",
   "metadata": {},
   "outputs": [
    {
     "name": "stdout",
     "output_type": "stream",
     "text": [
      "Choose an action:\n"
     ]
    },
    {
     "ename": "ValueError",
     "evalue": "invalid literal for int() with base 10: ''",
     "output_type": "error",
     "traceback": [
      "\u001b[31m---------------------------------------------------------------------------\u001b[39m",
      "\u001b[31mValueError\u001b[39m                                Traceback (most recent call last)",
      "\u001b[36mCell\u001b[39m\u001b[36m \u001b[39m\u001b[32mIn[32]\u001b[39m\u001b[32m, line 4\u001b[39m\n\u001b[32m      2\u001b[39m \u001b[38;5;28;01mwhile\u001b[39;00m \u001b[38;5;28;01mTrue\u001b[39;00m:\n\u001b[32m      3\u001b[39m     \u001b[38;5;28mprint\u001b[39m(\u001b[33m\"\u001b[39m\u001b[33mChoose an action:\u001b[39m\u001b[33m\"\u001b[39m)\n\u001b[32m----> \u001b[39m\u001b[32m4\u001b[39m     inp = \u001b[38;5;28;43mint\u001b[39;49m\u001b[43m(\u001b[49m\u001b[38;5;28;43minput\u001b[39;49m\u001b[43m(\u001b[49m\u001b[33;43m\"\u001b[39;49m\u001b[33;43m1. Add an item \u001b[39;49m\u001b[38;5;130;43;01m\\n\u001b[39;49;00m\u001b[33;43m 2.Search an item \u001b[39;49m\u001b[38;5;130;43;01m\\n\u001b[39;49;00m\u001b[33;43m 3.Delete an item \u001b[39;49m\u001b[38;5;130;43;01m\\n\u001b[39;49;00m\u001b[33;43m 4.View inventory \u001b[39;49m\u001b[38;5;130;43;01m\\n\u001b[39;49;00m\u001b[33;43m 5. Exit\u001b[39;49m\u001b[33;43m\"\u001b[39;49m\u001b[43m)\u001b[49m\u001b[43m)\u001b[49m\n\u001b[32m      5\u001b[39m     \u001b[38;5;28;01mif\u001b[39;00m inp == \u001b[32m1\u001b[39m:\n\u001b[32m      6\u001b[39m         \u001b[38;5;28mid\u001b[39m, name, expiry, nutrients, quantity = inventory.get_details()\n",
      "\u001b[31mValueError\u001b[39m: invalid literal for int() with base 10: ''"
     ]
    }
   ],
   "source": [
    "inventory = Inventory()\n",
    "while inp != 5:\n",
    "    print(\"Choose an action:\")\n",
    "    inp = int(input(\"1. Add an item \\n 2.Search an item \\n 3.Delete an item \\n 4.View inventory \\n 5. Exit\"))\n",
    "    if inp == 1:\n",
    "        id, name, expiry, nutrients, quantity = inventory.get_details()\n",
    "        inventory.add_item(id, name, expiry, nutrients, quantity)\n",
    "inventory.display_inventory()"
   ]
  }
 ],
 "metadata": {
  "kernelspec": {
   "display_name": "Python 3",
   "language": "python",
   "name": "python3"
  },
  "language_info": {
   "codemirror_mode": {
    "name": "ipython",
    "version": 3
   },
   "file_extension": ".py",
   "mimetype": "text/x-python",
   "name": "python",
   "nbconvert_exporter": "python",
   "pygments_lexer": "ipython3",
   "version": "3.11.9"
  }
 },
 "nbformat": 4,
 "nbformat_minor": 5
}
